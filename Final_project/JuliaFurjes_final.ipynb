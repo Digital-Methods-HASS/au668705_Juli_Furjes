{
 "cells": [
  {
   "cell_type": "markdown",
   "id": "56d12f3a-bbd8-4b58-94e5-44bcd5d30fe0",
   "metadata": {},
   "source": [
    "## Importing data and packages"
   ]
  },
  {
   "cell_type": "markdown",
   "id": "bed9ec56-45e9-472f-8d0f-aa27394e8819",
   "metadata": {},
   "source": [
    "### Install packages"
   ]
  },
  {
   "cell_type": "code",
   "execution_count": 43,
   "id": "f90b54ef-1a30-4ee4-b266-8e21eb073783",
   "metadata": {
    "execution": {
     "iopub.execute_input": "2023-01-11T12:50:28.261868Z",
     "iopub.status.busy": "2023-01-11T12:50:28.261310Z",
     "iopub.status.idle": "2023-01-11T12:50:28.272803Z",
     "shell.execute_reply": "2023-01-11T12:50:28.271933Z",
     "shell.execute_reply.started": "2023-01-11T12:50:28.261815Z"
    },
    "tags": []
   },
   "outputs": [
    {
     "name": "stderr",
     "output_type": "stream",
     "text": [
      "[nltk_data] Downloading package stopwords to /home/ucloud/nltk_data...\n",
      "[nltk_data]   Package stopwords is already up-to-date!\n",
      "[nltk_data] Downloading package punkt to /home/ucloud/nltk_data...\n",
      "[nltk_data]   Package punkt is already up-to-date!\n",
      "[nltk_data] Downloading package averaged_perceptron_tagger to\n",
      "[nltk_data]     /home/ucloud/nltk_data...\n",
      "[nltk_data]   Package averaged_perceptron_tagger is already up-to-\n",
      "[nltk_data]       date!\n"
     ]
    }
   ],
   "source": [
    "import pandas as pd\n",
    "import nltk\n",
    "from nltk.tokenize import word_tokenize\n",
    "from nltk import pos_tag\n",
    "from nltk.stem import PorterStemmer\n",
    "import os\n",
    "import numpy as np\n",
    "import re\n",
    "nltk.download('stopwords')\n",
    "from nltk.corpus import stopwords\n",
    "nltk.download('punkt')\n",
    "nltk.download('averaged_perceptron_tagger')\n",
    "from scipy import stats\n",
    "from statistics import mean \n",
    "import seaborn as sns\n",
    "import random"
   ]
  },
  {
   "cell_type": "markdown",
   "id": "9f482622-eacb-49a1-8a30-b07d8d9e70a0",
   "metadata": {},
   "source": [
    "### Load data and randomly sample"
   ]
  },
  {
   "cell_type": "code",
   "execution_count": 2,
   "id": "4a186677-a7ef-4de8-b594-3a50c437d454",
   "metadata": {
    "execution": {
     "iopub.execute_input": "2023-01-11T12:27:55.880857Z",
     "iopub.status.busy": "2023-01-11T12:27:55.880298Z",
     "iopub.status.idle": "2023-01-11T12:28:11.474036Z",
     "shell.execute_reply": "2023-01-11T12:28:11.472491Z",
     "shell.execute_reply.started": "2023-01-11T12:27:55.880803Z"
    },
    "tags": []
   },
   "outputs": [
    {
     "name": "stdout",
     "output_type": "stream",
     "text": [
      "        id                                       comment_text  split  \\\n",
      "0  1083994  He got his money... now he lies in wait till a...  train   \n",
      "1   650904  Mad dog will surely put the liberals in mental...  train   \n",
      "2  5902188  And Trump continues his lifelong cowardice by ...  train   \n",
      "3  7084460  \"while arresting a man for resisting arrest\".\\...   test   \n",
      "4  5410943     Tucker and Paul are both total bad ass mofo's.  train   \n",
      "\n",
      "                    created_date  publication_id  parent_id  article_id  \\\n",
      "0  2017-03-06 15:21:53.675241+00              21        NaN      317120   \n",
      "1  2016-12-02 16:44:21.329535+00              21        NaN      154086   \n",
      "2  2017-09-05 19:05:32.341360+00              55        NaN      374342   \n",
      "3  2016-11-01 16:53:33.561631+00              13        NaN      149218   \n",
      "4  2017-06-14 05:08:21.997315+00              21        NaN      344096   \n",
      "\n",
      "     rating  funny  wow  ...  white  asian  latino  other_race_or_ethnicity  \\\n",
      "0  approved      0    0  ...    NaN    NaN     NaN                      NaN   \n",
      "1  approved      0    0  ...    NaN    NaN     NaN                      NaN   \n",
      "2  approved      1    0  ...    NaN    NaN     NaN                      NaN   \n",
      "3  approved      0    0  ...    NaN    NaN     NaN                      NaN   \n",
      "4  approved      0    0  ...    NaN    NaN     NaN                      NaN   \n",
      "\n",
      "   physical_disability  intellectual_or_learning_disability  \\\n",
      "0                  NaN                                  NaN   \n",
      "1                  NaN                                  NaN   \n",
      "2                  NaN                                  NaN   \n",
      "3                  NaN                                  NaN   \n",
      "4                  NaN                                  NaN   \n",
      "\n",
      "   psychiatric_or_mental_illness  other_disability  identity_annotator_count  \\\n",
      "0                            NaN               NaN                         0   \n",
      "1                            NaN               NaN                         0   \n",
      "2                            NaN               NaN                         0   \n",
      "3                            NaN               NaN                         0   \n",
      "4                            NaN               NaN                         0   \n",
      "\n",
      "   toxicity_annotator_count  \n",
      "0                        67  \n",
      "1                        76  \n",
      "2                        63  \n",
      "3                        76  \n",
      "4                        80  \n",
      "\n",
      "[5 rows x 46 columns]\n"
     ]
    }
   ],
   "source": [
    "random.seed(123)\n",
    "\n",
    "# reading data\n",
    "df = pd.read_csv('data/all_data.csv')\n",
    "\n",
    "# printing the head of the dataframe\n",
    "print(df.head())\n",
    "\n",
    "# randomly sampling 1000 lines\n",
    "df_sampled = df.sample(n=1000, random_state=1)\n",
    "\n",
    "# exporting it so we don't have to load the whole dataset if not neccessary\n",
    "df_sampled.to_csv('data/all_data_sampled.csv')"
   ]
  },
  {
   "cell_type": "code",
   "execution_count": 3,
   "id": "1857210c-1bd6-4d9e-8876-9e85ea616714",
   "metadata": {
    "execution": {
     "iopub.execute_input": "2023-01-11T12:28:11.493810Z",
     "iopub.status.busy": "2023-01-11T12:28:11.493662Z",
     "iopub.status.idle": "2023-01-11T12:28:11.512149Z",
     "shell.execute_reply": "2023-01-11T12:28:11.511519Z",
     "shell.execute_reply.started": "2023-01-11T12:28:11.493794Z"
    },
    "tags": []
   },
   "outputs": [
    {
     "name": "stdout",
     "output_type": "stream",
     "text": [
      "0                    and then there's Justin's tax plan.\n",
      "1      \"When you remain closed up in your own prejudi...\n",
      "2      here's a GOOD ONE for you Rex=\n",
      "The Québécoise ...\n",
      "3      '\n",
      "Rex Tillerson: 'A Christmas gift to the Russ...\n",
      "4      I think the school system, from kindergarten t...\n",
      "                             ...                        \n",
      "995    Will Justin Trudeau walk the talk and become t...\n",
      "996                                            thank you\n",
      "997    Their story is similar were with his brothers ...\n",
      "998    Save it. \n",
      "\n",
      "Anyone that wants to can google \"ra...\n",
      "999    \"That sound like “victim” to me, much to your ...\n",
      "Name: comment_text, Length: 1000, dtype: string\n"
     ]
    }
   ],
   "source": [
    "# reading data again\n",
    "df_sampled = pd.read_csv('data/all_data_sampled.csv')\n",
    "\n",
    "# making sure that the comments are strings\n",
    "df_sampled['comment_text'] = df_sampled['comment_text'].astype(\"string\")\n",
    "print(df_sampled['comment_text'])"
   ]
  },
  {
   "cell_type": "markdown",
   "id": "b85339cb-9531-4096-bb35-04faed0dfd70",
   "metadata": {},
   "source": [
    "## Data preparation for NLP"
   ]
  },
  {
   "cell_type": "markdown",
   "id": "9c486719-43c7-4792-a2a8-d557a832ffd9",
   "metadata": {},
   "source": [
    "### Removing special characters"
   ]
  },
  {
   "cell_type": "code",
   "execution_count": 5,
   "id": "cf2d3d2a-80c3-4992-b46e-162f8d84eac9",
   "metadata": {
    "execution": {
     "iopub.execute_input": "2023-01-11T12:28:18.394151Z",
     "iopub.status.busy": "2023-01-11T12:28:18.393638Z",
     "iopub.status.idle": "2023-01-11T12:28:18.412531Z",
     "shell.execute_reply": "2023-01-11T12:28:18.411894Z",
     "shell.execute_reply.started": "2023-01-11T12:28:18.394098Z"
    },
    "tags": []
   },
   "outputs": [],
   "source": [
    "unclean_array = df_sampled['comment_text']\n",
    "\n",
    "unclean_str_new = [0] * len(unclean_array)\n",
    "\n",
    "i = 0\n",
    "\n",
    "for x in unclean_array:\n",
    "    unclean_str_new[i] = re.sub('[^a-zA-Z.\\d\\s]', '', x)\n",
    "    i = i+1"
   ]
  },
  {
   "cell_type": "markdown",
   "id": "ee1bd7f1-da57-40e4-85be-e600645dfd93",
   "metadata": {},
   "source": [
    "### Removing stopwords"
   ]
  },
  {
   "cell_type": "code",
   "execution_count": 6,
   "id": "fb43fbe4-cd17-44c4-a8a4-29996baec90d",
   "metadata": {
    "execution": {
     "iopub.execute_input": "2023-01-11T12:28:20.101990Z",
     "iopub.status.busy": "2023-01-11T12:28:20.101458Z",
     "iopub.status.idle": "2023-01-11T12:28:20.607979Z",
     "shell.execute_reply": "2023-01-11T12:28:20.607440Z",
     "shell.execute_reply.started": "2023-01-11T12:28:20.101934Z"
    },
    "tags": []
   },
   "outputs": [
    {
     "data": {
      "text/plain": [
       "0                      [theres, justins, tax, plan, .]\n",
       "1    [remain, closed, prejudices, slave, idols, fal...\n",
       "2    [heres, good, one, rex, qubcoise, transgender,...\n",
       "3    [rex, tillerson, christmas, gift, russian, peo...\n",
       "4    [think, school, system, kindergarten, ua, need...\n",
       "Name: comment_token, dtype: object"
      ]
     },
     "execution_count": 6,
     "metadata": {},
     "output_type": "execute_result"
    }
   ],
   "source": [
    "tokens_wo_stopwords = [0] * len(unclean_array)\n",
    "i = 0\n",
    "\n",
    "for x in unclean_str_new:\n",
    "    # convert text to lowercase and split to a list of words\n",
    "    tokens = word_tokenize(x.lower())\n",
    "    english_stopwords = stopwords.words('english')\n",
    "    tokens_wo_stopwords[i] = [t for t in tokens if t not in english_stopwords]\n",
    "    i = i+1\n",
    "    tokens = 0\n",
    "    \n",
    "df_sampled['comment_token'] = tokens_wo_stopwords\n",
    "\n",
    "# printing the head of the dataframe (for double-checking)\n",
    "df_sampled['comment_token'].head()"
   ]
  },
  {
   "cell_type": "markdown",
   "id": "1a28038f-3e34-41f7-aaef-98382d773b70",
   "metadata": {},
   "source": [
    "### Stemming"
   ]
  },
  {
   "cell_type": "code",
   "execution_count": 7,
   "id": "4204f293-b492-4efd-9cff-c70394c23101",
   "metadata": {
    "execution": {
     "iopub.execute_input": "2023-01-11T12:28:22.686118Z",
     "iopub.status.busy": "2023-01-11T12:28:22.685605Z",
     "iopub.status.idle": "2023-01-11T12:28:23.068773Z",
     "shell.execute_reply": "2023-01-11T12:28:23.068225Z",
     "shell.execute_reply.started": "2023-01-11T12:28:22.686063Z"
    },
    "tags": []
   },
   "outputs": [
    {
     "data": {
      "text/plain": [
       "0                        [there, justin, tax, plan, .]\n",
       "1    [remain, close, prejudic, slave, idol, fals, g...\n",
       "2    [here, good, one, rex, qubcois, transgend, act...\n",
       "3    [rex, tillerson, christma, gift, russian, peop...\n",
       "4    [think, school, system, kindergarten, ua, need...\n",
       "Name: comment_clean, dtype: object"
      ]
     },
     "execution_count": 7,
     "metadata": {},
     "output_type": "execute_result"
    }
   ],
   "source": [
    "porter = PorterStemmer()\n",
    "\n",
    "i = 0\n",
    "comment_clean = [0] * len(df_sampled['comment_token'])\n",
    "stemmed_token = list()\n",
    "\n",
    "for comments in df_sampled['comment_token']:\n",
    "    for words in comments:\n",
    "        stemmed = porter.stem(words)\n",
    "        stemmed_token.append(stemmed)\n",
    "    comment_clean[i] = stemmed_token\n",
    "    i = i+1\n",
    "    stemmed_token = list() #empyting the list again\n",
    "\n",
    "# adding the stemmed tokens to the dataframe\n",
    "df_sampled['comment_clean'] = comment_clean\n",
    "\n",
    "# printing the head of the dataframe (for double-checking)\n",
    "df_sampled['comment_clean'].head()"
   ]
  },
  {
   "cell_type": "markdown",
   "id": "bca0fe6d-7479-4f9d-8ed2-7b2307dad4c9",
   "metadata": {},
   "source": [
    "### Saving the tokenized data"
   ]
  },
  {
   "cell_type": "code",
   "execution_count": 8,
   "id": "b3cb2065-99de-428b-994e-2b922db40a4b",
   "metadata": {
    "execution": {
     "iopub.execute_input": "2023-01-11T12:28:26.606146Z",
     "iopub.status.busy": "2023-01-11T12:28:26.604924Z",
     "iopub.status.idle": "2023-01-11T12:28:26.682545Z",
     "shell.execute_reply": "2023-01-11T12:28:26.681396Z",
     "shell.execute_reply.started": "2023-01-11T12:28:26.606074Z"
    }
   },
   "outputs": [],
   "source": [
    "df_sampled.to_csv('data/all_data_tokenized.csv')"
   ]
  },
  {
   "cell_type": "markdown",
   "id": "38d148b7-c7b5-4542-adc2-21e1eb770323",
   "metadata": {},
   "source": [
    "## Analysis"
   ]
  },
  {
   "cell_type": "markdown",
   "id": "a85c52ef-85e2-4262-8d9f-84dbeded775e",
   "metadata": {},
   "source": [
    "### WordCloud"
   ]
  },
  {
   "cell_type": "code",
   "execution_count": 9,
   "id": "77dfd06a-da61-48e8-bb27-6ffec3a5a654",
   "metadata": {
    "execution": {
     "iopub.execute_input": "2023-01-11T12:28:28.212316Z",
     "iopub.status.busy": "2023-01-11T12:28:28.211798Z",
     "iopub.status.idle": "2023-01-11T12:28:28.502527Z",
     "shell.execute_reply": "2023-01-11T12:28:28.501668Z",
     "shell.execute_reply.started": "2023-01-11T12:28:28.212262Z"
    },
    "tags": []
   },
   "outputs": [
    {
     "ename": "ModuleNotFoundError",
     "evalue": "No module named 'wordcloud'",
     "output_type": "error",
     "traceback": [
      "\u001b[0;31m---------------------------------------------------------------------------\u001b[0m",
      "\u001b[0;31mModuleNotFoundError\u001b[0m                       Traceback (most recent call last)",
      "\u001b[0;32m/tmp/ipykernel_115/3323101907.py\u001b[0m in \u001b[0;36m<module>\u001b[0;34m\u001b[0m\n\u001b[1;32m      1\u001b[0m \u001b[0;31m# most used words with the tag 'threat' as a wordcloud\u001b[0m\u001b[0;34m\u001b[0m\u001b[0;34m\u001b[0m\u001b[0;34m\u001b[0m\u001b[0m\n\u001b[1;32m      2\u001b[0m \u001b[0;32mimport\u001b[0m \u001b[0mmatplotlib\u001b[0m\u001b[0;34m.\u001b[0m\u001b[0mpyplot\u001b[0m \u001b[0;32mas\u001b[0m \u001b[0mplt\u001b[0m\u001b[0;34m\u001b[0m\u001b[0;34m\u001b[0m\u001b[0m\n\u001b[0;32m----> 3\u001b[0;31m \u001b[0;32mfrom\u001b[0m \u001b[0mwordcloud\u001b[0m \u001b[0;32mimport\u001b[0m \u001b[0mWordCloud\u001b[0m\u001b[0;34m\u001b[0m\u001b[0;34m\u001b[0m\u001b[0m\n\u001b[0m\u001b[1;32m      4\u001b[0m \u001b[0;34m\u001b[0m\u001b[0m\n\u001b[1;32m      5\u001b[0m \u001b[0;31m# filtering the dataset so only the comments with the 'threat' label will be used\u001b[0m\u001b[0;34m\u001b[0m\u001b[0;34m\u001b[0m\u001b[0;34m\u001b[0m\u001b[0m\n",
      "\u001b[0;31mModuleNotFoundError\u001b[0m: No module named 'wordcloud'"
     ]
    }
   ],
   "source": [
    "# most used words with the tag 'threat' as a wordcloud\n",
    "import matplotlib.pyplot as plt\n",
    "from wordcloud import WordCloud\n",
    "\n",
    "# filtering the dataset so only the comments with the 'threat' label will be used\n",
    "# we handle the threat values as if they were binary\n",
    "df_threat = df_sampled[df_sampled['threat']>0]\n",
    "\n",
    "# creating a corpus of text\n",
    "corpus_threat = ''\n",
    "\n",
    "for comment in df_threat['comment_clean']:  \n",
    "    corpus_threat += ' '.join(comment)\n",
    "\n",
    "# creating the wordcloud\n",
    "word_cloud_threat = WordCloud(collocations = False, background_color = 'white').generate(corpus_threat)\n",
    "\n",
    "# plotting it\n",
    "plt.imshow(word_cloud_threat, interpolation='bilinear')\n",
    "plt.axis(\"off\")\n",
    "plt.show()\n",
    "\n",
    "# most used words with the tag 'toxicity' as a wordcloud\n",
    "import matplotlib.pyplot as plt\n",
    "from wordcloud import WordCloud\n",
    "\n",
    "# filtering the dataset so only the comments with the 'threat' label will be used\n",
    "# we handle the threat values as if they were binary\n",
    "df_toxicity = df_sampled[df_sampled['toxicity']>0]\n",
    "\n",
    "# creating a corpus of text\n",
    "corpus_toxicity = ''\n",
    "\n",
    "for comment in df_toxicity['comment_clean']:  \n",
    "    corpus_toxicity += ' '.join(comment)\n",
    "\n",
    "# creating the wordcloud\n",
    "word_cloud_toxicity = WordCloud(collocations = False, background_color = 'white').generate(corpus_toxicity)\n",
    "\n",
    "# plotting it\n",
    "plt.imshow(word_cloud_toxicity, interpolation='bilinear')\n",
    "plt.axis(\"off\")\n",
    "plt.show()"
   ]
  },
  {
   "cell_type": "markdown",
   "id": "8df31077-ce50-49c4-a7b1-dc2cdb513924",
   "metadata": {},
   "source": [
    "### Correlation plot"
   ]
  },
  {
   "cell_type": "code",
   "execution_count": 10,
   "id": "f9c9f599-d760-4824-aad8-921a4a212171",
   "metadata": {
    "execution": {
     "iopub.execute_input": "2023-01-11T12:28:32.914575Z",
     "iopub.status.busy": "2023-01-11T12:28:32.914042Z",
     "iopub.status.idle": "2023-01-11T12:28:33.435315Z",
     "shell.execute_reply": "2023-01-11T12:28:33.434636Z",
     "shell.execute_reply.started": "2023-01-11T12:28:32.914520Z"
    },
    "tags": []
   },
   "outputs": [
    {
     "name": "stdout",
     "output_type": "stream",
     "text": [
      "0.3544892078697488\n",
      "1149\n"
     ]
    },
    {
     "data": {
      "image/png": "[encoded data removed]",
      "text/plain": [
       "<Figure size 432x288 with 1 Axes>"
      ]
     },
     "metadata": {},
     "output_type": "display_data"
    }
   ],
   "source": [
    "# correlation between target gender and sexuality and toxicity\n",
    "import matplotlib.pyplot as plt\n",
    "import seaborn\n",
    "import seaborn as sns\n",
    "%matplotlib inline\n",
    "\n",
    "# there is not a lot of data about gender and sexuality, so I used a bigger dataset here\n",
    "# randomly sampling 1000 lines\n",
    "df_sampled_toxicity = df.sample(n=50000, random_state=1)\n",
    "\n",
    "# filtering the dataset so only the comments with the 'toxicity' label will be used (but this time with the bigger dataset)\n",
    "df_toxicity_big = df_sampled_toxicity[df_sampled_toxicity['toxicity']>0]\n",
    "\n",
    "# removing nas\n",
    "df_toxicity_big = df_toxicity_big.dropna()\n",
    "\n",
    "# resetting indexing (because of the dropna function)\n",
    "df_toxicity_big = df_toxicity_big.reset_index(drop=True)\n",
    "\n",
    "#creating an empty list for the values\n",
    "identity_df = pd.DataFrame(columns=['identity', 'identity_value', 'toxicity'])\n",
    "\n",
    "identities = list()\n",
    "values = list()\n",
    "toxicity = list()\n",
    "\n",
    "i2 = 0\n",
    "\n",
    "for i in range(0, len(df_toxicity_big)):\n",
    "    if(df_toxicity_big['male'][i]>0):\n",
    "        identities.append('male')\n",
    "        values.append(df_toxicity_big['male'][i])\n",
    "        toxicity.append(df_toxicity_big['toxicity'][i])\n",
    "        i2 = i2 + 1\n",
    "    if(df_toxicity_big['female'][i] > 0.0):\n",
    "        identities.append('female')\n",
    "        values.append(df_toxicity_big['female'][i])\n",
    "        toxicity.append(df_toxicity_big['toxicity'][i])\n",
    "        i2 = i2 + 1\n",
    "    if(df_toxicity_big['transgender'][i] > 0.0):\n",
    "        identities.append('transgender')\n",
    "        values.append(df_toxicity_big['transgender'][i])\n",
    "        toxicity.append(df_toxicity_big['toxicity'][i])\n",
    "        i2 = i2 + 1\n",
    "    if(df_toxicity_big['other_gender'][i] > 0.0):\n",
    "        identities.append('other_gender')\n",
    "        values.append(df_toxicity_big['other_gender'][i])\n",
    "        toxicity.append(df_toxicity_big['toxicity'][i])\n",
    "        i2 = i2 + 1\n",
    "\n",
    "# adding these values to the empty dataframe        \n",
    "identity_df['identity'] = identities\n",
    "identity_df['identity_value'] = values\n",
    "identity_df['toxicity'] = toxicity\n",
    "\n",
    "seaborn.set(style = 'whitegrid')\n",
    "    \n",
    "seaborn.violinplot(x = \"identity\",\n",
    "             y = \"toxicity\",\n",
    "             data = identity_df)\n",
    "\n",
    "print(mean(toxicity))\n",
    "print(len(toxicity))"
   ]
  },
  {
   "cell_type": "markdown",
   "id": "16132edc-fd4e-4609-acad-8c6663201d27",
   "metadata": {},
   "source": [
    "### Correlation analysis"
   ]
  },
  {
   "cell_type": "code",
   "execution_count": 11,
   "id": "62aacb8b-67ee-457a-b7f5-80c4e3a59264",
   "metadata": {
    "execution": {
     "iopub.execute_input": "2023-01-11T12:28:36.101098Z",
     "iopub.status.busy": "2023-01-11T12:28:36.100572Z",
     "iopub.status.idle": "2023-01-11T12:28:36.130779Z",
     "shell.execute_reply": "2023-01-11T12:28:36.129937Z",
     "shell.execute_reply.started": "2023-01-11T12:28:36.101043Z"
    },
    "tags": []
   },
   "outputs": [
    {
     "name": "stdout",
     "output_type": "stream",
     "text": [
      "Pearson correlation between transgender people and toxicity: 0.04742859466940919 (p = 0.7436130797242412)\n",
      "Pearson correlation between male and toxicity: -0.06060134890542804 (p = 0.15208606782665096)\n",
      "Pearson correlation between female and toxicity: -0.06894306876424294 (p = 0.11850017057808947)\n",
      "Pearson correlation between other genders and toxicity: 0.2590892577111078 (p = 0.21107581662095257)\n"
     ]
    }
   ],
   "source": [
    "# preforming Pearsons correlation test to check their relationship\n",
    "transgender_tox_corr_r, transgender_tox_corr_p = stats.pearsonr(identity_df.loc[identity_df['identity'] == 'transgender', 'toxicity'], identity_df.loc[identity_df['identity'] == 'transgender', 'identity_value'])\n",
    "print(f'Pearson correlation between transgender people and toxicity: {transgender_tox_corr_r} (p = {transgender_tox_corr_p})')\n",
    "male_tox_corr_r, male_tox_corr_p = stats.pearsonr(identity_df.loc[identity_df['identity'] == 'male', 'toxicity'], identity_df.loc[identity_df['identity'] == 'male', 'identity_value'])\n",
    "print(f'Pearson correlation between male and toxicity: {male_tox_corr_r} (p = {male_tox_corr_p})')\n",
    "female_tox_corr_r, female_tox_corr_p = stats.pearsonr(identity_df.loc[identity_df['identity'] == 'female', 'toxicity'], identity_df.loc[identity_df['identity'] == 'female', 'identity_value'])\n",
    "print(f'Pearson correlation between female and toxicity: {female_tox_corr_r} (p = {female_tox_corr_p})')\n",
    "other_tox_corr_r, other_tox_corr_p = stats.pearsonr(identity_df.loc[identity_df['identity'] == 'other_gender', 'toxicity'], identity_df.loc[identity_df['identity'] == 'other_gender', 'identity_value'])\n",
    "print(f'Pearson correlation between other genders and toxicity: {other_tox_corr_r} (p = {other_tox_corr_p})')"
   ]
  },
  {
   "cell_type": "markdown",
   "id": "4423f076-65c3-439f-9fbd-dde26e8f130a",
   "metadata": {},
   "source": [
    "### Sentiment analysis"
   ]
  },
  {
   "cell_type": "code",
   "execution_count": 12,
   "id": "09c4e9bb-3e48-4fe2-9a7a-26721ae1de3d",
   "metadata": {
    "execution": {
     "iopub.execute_input": "2023-01-11T12:28:39.055793Z",
     "iopub.status.busy": "2023-01-11T12:28:39.055258Z",
     "iopub.status.idle": "2023-01-11T12:28:40.330074Z",
     "shell.execute_reply": "2023-01-11T12:28:40.329489Z",
     "shell.execute_reply.started": "2023-01-11T12:28:39.055739Z"
    },
    "tags": []
   },
   "outputs": [
    {
     "name": "stderr",
     "output_type": "stream",
     "text": [
      "[nltk_data] Downloading package vader_lexicon to\n",
      "[nltk_data]     /home/ucloud/nltk_data...\n"
     ]
    },
    {
     "name": "stdout",
     "output_type": "stream",
     "text": [
      "0    {'neg': 0.0, 'neu': 1.0, 'pos': 0.0, 'compound...\n",
      "1    {'neg': 0.074, 'neu': 0.752, 'pos': 0.174, 'co...\n",
      "2    {'neg': 0.059, 'neu': 0.761, 'pos': 0.181, 'co...\n",
      "3    {'neg': 0.0, 'neu': 0.734, 'pos': 0.266, 'comp...\n",
      "4    {'neg': 0.0, 'neu': 0.935, 'pos': 0.065, 'comp...\n",
      "Name: sentiment_all, dtype: object\n",
      "0    0.0000\n",
      "1    0.7901\n",
      "2    0.9413\n",
      "3    0.4404\n",
      "4    0.8555\n",
      "Name: sentiment_compound, dtype: float64\n"
     ]
    }
   ],
   "source": [
    "# sentiment analysis\n",
    "from nltk.sentiment import SentimentIntensityAnalyzer\n",
    "\n",
    "nltk.download('vader_lexicon')\n",
    "sia = SentimentIntensityAnalyzer()\n",
    "\n",
    "i = 0\n",
    "sentiment = [0] * len(df_sampled['comment_text'])\n",
    "compound = [0] * len(df_sampled['comment_text']) # compound score is the overall score (between -1 and 1)\n",
    "\n",
    "for comment in df_sampled['comment_text']:\n",
    "    sentiment[i] = sia.polarity_scores(comment)\n",
    "    compound[i] = sia.polarity_scores(comment)['compound']\n",
    "    i = i + 1\n",
    "    \n",
    "df_sampled['sentiment_all'] = sentiment\n",
    "df_sampled['sentiment_compound'] = compound\n",
    "\n",
    "# printing the head of the dataframe (for double-checking)\n",
    "print(df_sampled['sentiment_all'].head())\n",
    "print(df_sampled['sentiment_compound'].head())"
   ]
  },
  {
   "cell_type": "code",
   "execution_count": 54,
   "id": "d8cda44f-a718-43ed-b004-a8ba58f66702",
   "metadata": {
    "execution": {
     "iopub.execute_input": "2023-01-11T13:01:10.317169Z",
     "iopub.status.busy": "2023-01-11T13:01:10.316359Z",
     "iopub.status.idle": "2023-01-11T13:01:10.441891Z",
     "shell.execute_reply": "2023-01-11T13:01:10.441202Z",
     "shell.execute_reply.started": "2023-01-11T13:01:10.317113Z"
    },
    "tags": []
   },
   "outputs": [
    {
     "name": "stdout",
     "output_type": "stream",
     "text": [
      "Approved comments:  919\n",
      "Rejected comments:  81\n",
      "-0.01\n",
      "-0.16\n"
     ]
    },
    {
     "data": {
      "image/png": "[encoded data removed]",
      "text/plain": [
       "<Figure size 432x288 with 1 Axes>"
      ]
     },
     "metadata": {},
     "output_type": "display_data"
    },
    {
     "name": "stdout",
     "output_type": "stream",
     "text": [
      "Ttest_indResult(statistic=45.89583417513346, pvalue=1.126620163e-314)\n"
     ]
    }
   ],
   "source": [
    "random.seed(123)\n",
    "\n",
    "# correlation between acceptance and the sentiment of the posts\n",
    "import statistics\n",
    "\n",
    "# creating two datasets for the compound values of each category\n",
    "approved_sentiments = df_sampled['sentiment_compound'][df_sampled['rating'] == 'approved']\n",
    "rejected_sentiments = df_sampled['sentiment_compound'][df_sampled['rating'] == 'rejected']\n",
    "\n",
    "print(\"Approved comments: \", len(approved_sentiments))\n",
    "print(\"Rejected comments: \", len(rejected_sentiments))\n",
    "# it is quite unbalanced, but it's still interesting to try\n",
    "\n",
    "# creating a df for each category\n",
    "approved_sentiments_df = pd.DataFrame()\n",
    "approved_sentiments_df['sentiment_compounds'] = approved_sentiments\n",
    "approved_sentiments_df['rating'] = 1\n",
    "\n",
    "rejected_sentiments_df = pd.DataFrame()\n",
    "rejected_sentiments_df['sentiment_compounds'] = rejected_sentiments\n",
    "rejected_sentiments_df['rating'] = 0\n",
    "\n",
    "# combining them\n",
    "acceptance_sentiments = pd.concat([approved_sentiments_df,rejected_sentiments_df], axis=0)\n",
    "acceptance_sentiments = acceptance_sentiments.iloc[:, 0:2]\n",
    "\n",
    "# calculating means\n",
    "accepted_mean = round(statistics.mean(approved_sentiments), 2)\n",
    "print(accepted_mean)\n",
    "rejected_mean = round(statistics.mean(rejected_sentiments), 2)\n",
    "print(rejected_mean)\n",
    "\n",
    "# plot\n",
    "ax = sns.boxplot( x=acceptance_sentiments['rating'], y=acceptance_sentiments['sentiment_compounds']).set(\n",
    "    xlabel='Rating', \n",
    "    ylabel='Sentiment'\n",
    ")\n",
    "plt.show()\n",
    "\n",
    "# correlation analysis\n",
    "t = stats.ttest_ind(acceptance_sentiments['rating'], acceptance_sentiments['sentiment_compounds'])\n",
    "print(t)"
   ]
  },
  {
   "cell_type": "code",
   "execution_count": 47,
   "id": "126ed4a5-d82e-4d91-b0a7-ad5be757459d",
   "metadata": {
    "execution": {
     "iopub.execute_input": "2023-01-11T12:51:21.047844Z",
     "iopub.status.busy": "2023-01-11T12:51:21.047281Z",
     "iopub.status.idle": "2023-01-11T12:51:21.060943Z",
     "shell.execute_reply": "2023-01-11T12:51:21.060237Z",
     "shell.execute_reply.started": "2023-01-11T12:51:21.047789Z"
    },
    "tags": []
   },
   "outputs": [
    {
     "name": "stdout",
     "output_type": "stream",
     "text": [
      "     sentiment_compounds    rating\n",
      "0                 0.0000  approved\n",
      "1                 0.7901  approved\n",
      "2                 0.9413  approved\n",
      "3                 0.4404  approved\n",
      "4                 0.8555  approved\n",
      "..                   ...       ...\n",
      "965              -0.9041  rejected\n",
      "971               0.0000  rejected\n",
      "972              -0.6695  rejected\n",
      "980               0.4019  rejected\n",
      "983              -0.9757  rejected\n",
      "\n",
      "[1000 rows x 2 columns]\n"
     ]
    }
   ],
   "source": [
    "print(acceptance_sentiments)"
   ]
  },
  {
   "cell_type": "code",
   "execution_count": null,
   "id": "ece00696-eedc-476d-90d7-446b3e4e5323",
   "metadata": {},
   "outputs": [],
   "source": []
  }
 ],
 "metadata": {
  "kernelspec": {
   "display_name": "Python 3 ",
   "language": "python",
   "name": "python3"
  },
  "language_info": {
   "codemirror_mode": {
    "name": "ipython",
    "version": 3
   },
   "file_extension": ".py",
   "mimetype": "text/x-python",
   "name": "python",
   "nbconvert_exporter": "python",
   "pygments_lexer": "ipython3",
   "version": "3.9.6"
  }
 },
 "nbformat": 4,
 "nbformat_minor": 5
}
